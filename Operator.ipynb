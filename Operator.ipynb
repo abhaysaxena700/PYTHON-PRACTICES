{
  "nbformat": 4,
  "nbformat_minor": 0,
  "metadata": {
    "colab": {
      "provenance": [],
      "authorship_tag": "ABX9TyOlI5vAYLajSwPTweLxiKKn",
      "include_colab_link": true
    },
    "kernelspec": {
      "name": "python3",
      "display_name": "Python 3"
    },
    "language_info": {
      "name": "python"
    }
  },
  "cells": [
    {
      "cell_type": "markdown",
      "metadata": {
        "id": "view-in-github",
        "colab_type": "text"
      },
      "source": [
        "<a href=\"https://colab.research.google.com/github/abhaysaxena700/PYTHON-PRACTICES/blob/main/Operator.ipynb\" target=\"_parent\"><img src=\"https://colab.research.google.com/assets/colab-badge.svg\" alt=\"Open In Colab\"/></a>"
      ]
    },
    {
      "cell_type": "code",
      "execution_count": null,
      "metadata": {
        "colab": {
          "base_uri": "https://localhost:8080/"
        },
        "id": "eRlK9HA935o6",
        "outputId": "9923a910-5df6-4e96-f8ac-bfb3da5a8b58"
      },
      "outputs": [
        {
          "output_type": "stream",
          "name": "stdout",
          "text": [
            "15\n",
            "5\n",
            "50\n",
            "2.0\n",
            "0\n",
            "2\n",
            "100000\n"
          ]
        }
      ],
      "source": [
        "#Arithmetic Operators\n",
        "\n",
        "x=10\n",
        "y=5\n",
        "print(x+y)\n",
        "print(x-y)\n",
        "print(x*y)\n",
        "print(x/y)\n",
        "print(x%y)\n",
        "print(x//y)\n",
        "print(x**y)"
      ]
    },
    {
      "cell_type": "code",
      "source": [
        "# Comparison Operators\n",
        "\n",
        "a=10\n",
        "b=8\n",
        "print(a==b)\n",
        "print(a!=b)\n",
        "print(a>b)\n",
        "print(a<b)\n",
        "print(a>=b)\n",
        "print(a<=b)\n"
      ],
      "metadata": {
        "colab": {
          "base_uri": "https://localhost:8080/"
        },
        "id": "k3tQZ_3AJEqr",
        "outputId": "2047d741-71e1-4264-a93b-109d0493dfc1"
      },
      "execution_count": null,
      "outputs": [
        {
          "output_type": "stream",
          "name": "stdout",
          "text": [
            "False\n",
            "True\n",
            "True\n",
            "False\n",
            "True\n",
            "False\n"
          ]
        }
      ]
    },
    {
      "cell_type": "code",
      "source": [
        "#Logical Operators\n",
        "\n",
        "print(10>5 and 5<10)         #Returns True if both statements are true\n",
        "print(10<5 or 5<10)          #Returns True if one of the statements is true\n",
        "print(not(10>5 and 5<10)) # returns False because not is used to reverse the result"
      ],
      "metadata": {
        "colab": {
          "base_uri": "https://localhost:8080/"
        },
        "id": "KRnMnWoAKPIC",
        "outputId": "3197604a-6711-4968-8c79-83960cec4037"
      },
      "execution_count": null,
      "outputs": [
        {
          "output_type": "stream",
          "name": "stdout",
          "text": [
            "True\n",
            "True\n",
            "False\n"
          ]
        }
      ]
    },
    {
      "cell_type": "code",
      "source": [
        "#Identity Operators\n",
        "\n",
        "a=5\n",
        "b=10\n",
        "c=5\n",
        "print(a is b)\n",
        "print(a is c)\n",
        "print(a is not b)\n",
        "print(a is not c)"
      ],
      "metadata": {
        "colab": {
          "base_uri": "https://localhost:8080/"
        },
        "id": "idpJMyG0L-oN",
        "outputId": "45742005-e640-4f4a-8aa3-c80ee0a9900a"
      },
      "execution_count": null,
      "outputs": [
        {
          "output_type": "stream",
          "name": "stdout",
          "text": [
            "False\n",
            "True\n",
            "True\n",
            "False\n"
          ]
        }
      ]
    },
    {
      "cell_type": "code",
      "source": [
        "#Membership Operators\n",
        "\n",
        "Vendor=[\"Lucky\", \"Inland\",\"UIL\", \"Jagdish\"]\n",
        "print(\"Lucky\" in Vendor)\n",
        "print(\"Economic\" in Vendor)\n",
        "print(\"Lucky\" not in Vendor)\n",
        "print(\"Economic\" not in Vendor)"
      ],
      "metadata": {
        "colab": {
          "base_uri": "https://localhost:8080/"
        },
        "id": "fx4S9JiCNRRj",
        "outputId": "a3074786-bd81-455e-e05c-0b5c79be298b"
      },
      "execution_count": null,
      "outputs": [
        {
          "output_type": "stream",
          "name": "stdout",
          "text": [
            "True\n",
            "False\n",
            "False\n",
            "True\n"
          ]
        }
      ]
    },
    {
      "cell_type": "code",
      "source": [
        "#Assignment Operators\n",
        "\n",
        "x=10\n",
        "y=5\n",
        "#x**=2\n",
        "print(x)\n",
        "a=13\n",
        "#a&=7     #1101-111-101=5\n",
        "#a|=7      #1101-111-1111=15\n",
        "#a^=7    #1101-111-1010=10\n",
        "#a>>=7   #1101-111-0=0\n",
        "a<<=7   #1101-111-11010000000=1664\n",
        "print(a)\n"
      ],
      "metadata": {
        "colab": {
          "base_uri": "https://localhost:8080/"
        },
        "id": "tat-ioGh4jqp",
        "outputId": "91f7d574-ffbb-4685-888d-4f4be2f8c96a"
      },
      "execution_count": null,
      "outputs": [
        {
          "output_type": "stream",
          "name": "stdout",
          "text": [
            "10\n",
            "1664\n"
          ]
        }
      ]
    },
    {
      "cell_type": "code",
      "source": [
        "#Number to Binary\n",
        "num = 3\n",
        "binary = bin(num)[2:]\n",
        "print(binary)\n",
        "#Binary to Number\n",
        "binary='010'\n",
        "num = int(binary, 2)\n",
        "print(num)\n"
      ],
      "metadata": {
        "colab": {
          "base_uri": "https://localhost:8080/"
        },
        "id": "Rvzr960MCJ3H",
        "outputId": "0a48876f-f297-463b-dffb-01ecfde878cf"
      },
      "execution_count": null,
      "outputs": [
        {
          "output_type": "stream",
          "name": "stdout",
          "text": [
            "11\n",
            "2\n"
          ]
        }
      ]
    },
    {
      "cell_type": "code",
      "source": [
        "#Bitwise Operators\n",
        "\n",
        "print(6 & 3)  #110-011-010=2\n",
        "print(6 | 3)  #110-011-111=7\n",
        "print(6 ^ 3)  #110-011-101=5\n",
        "print(~7)     # ~n= -(n + 1)\n",
        "print(5 << 2) #It’s like multiplying by 2 two times:\n",
        "print(6 >> 2) #It’s like dividing by 2 two times:"
      ],
      "metadata": {
        "colab": {
          "base_uri": "https://localhost:8080/"
        },
        "id": "0sygEzscOA4A",
        "outputId": "f01e8fdf-3c79-418b-fcae-75ffbafeb8c7"
      },
      "execution_count": null,
      "outputs": [
        {
          "output_type": "stream",
          "name": "stdout",
          "text": [
            "2\n",
            "7\n",
            "5\n",
            "-8\n",
            "20\n",
            "1\n"
          ]
        }
      ]
    }
  ]
}