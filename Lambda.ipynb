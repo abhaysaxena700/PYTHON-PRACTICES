{
  "nbformat": 4,
  "nbformat_minor": 0,
  "metadata": {
    "colab": {
      "provenance": [],
      "authorship_tag": "ABX9TyNO/s/50B+dwI6f1jw901vV",
      "include_colab_link": true
    },
    "kernelspec": {
      "name": "python3",
      "display_name": "Python 3"
    },
    "language_info": {
      "name": "python"
    }
  },
  "cells": [
    {
      "cell_type": "markdown",
      "metadata": {
        "id": "view-in-github",
        "colab_type": "text"
      },
      "source": [
        "<a href=\"https://colab.research.google.com/github/abhaysaxena700/PYTHON-PRACTICES/blob/main/Lambda.ipynb\" target=\"_parent\"><img src=\"https://colab.research.google.com/assets/colab-badge.svg\" alt=\"Open In Colab\"/></a>"
      ]
    },
    {
      "cell_type": "code",
      "execution_count": null,
      "metadata": {
        "colab": {
          "base_uri": "https://localhost:8080/"
        },
        "id": "SpoDc-Hy0VaX",
        "outputId": "ace5823c-0438-4f59-e486-5fb61312fd8f"
      },
      "outputs": [
        {
          "output_type": "stream",
          "name": "stdout",
          "text": [
            "40\n",
            "120\n"
          ]
        }
      ],
      "source": [
        "#Python Lambda\n",
        "\n",
        "def myfunc(n):\n",
        "  return lambda x:x*n\n",
        "idea=myfunc(4)\n",
        "hint=myfunc(6)\n",
        "print(idea(10))\n",
        "print(hint(20))\n"
      ]
    },
    {
      "cell_type": "code",
      "source": [
        "check=lambda x: \"Even\" if x % 2==0 else \"odd\"\n",
        "print(check(4))\n",
        "print(check(7))"
      ],
      "metadata": {
        "colab": {
          "base_uri": "https://localhost:8080/"
        },
        "id": "CSH9OZ6628wj",
        "outputId": "65e57022-9962-4105-a98e-b93cc894cb44"
      },
      "execution_count": null,
      "outputs": [
        {
          "output_type": "stream",
          "name": "stdout",
          "text": [
            "Even\n",
            "odd\n"
          ]
        }
      ]
    },
    {
      "cell_type": "code",
      "source": [
        "greater= lambda a,b: a if a>b else b\n",
        "print(greater(10,12))"
      ],
      "metadata": {
        "colab": {
          "base_uri": "https://localhost:8080/"
        },
        "id": "t4ud9NzU4EL2",
        "outputId": "dc1f3f1d-d9fd-4eb0-bdf1-2617b3132ec2"
      },
      "execution_count": null,
      "outputs": [
        {
          "output_type": "stream",
          "name": "stdout",
          "text": [
            "12\n"
          ]
        }
      ]
    }
  ]
}