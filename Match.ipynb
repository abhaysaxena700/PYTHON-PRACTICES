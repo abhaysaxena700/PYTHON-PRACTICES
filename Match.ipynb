{
  "nbformat": 4,
  "nbformat_minor": 0,
  "metadata": {
    "colab": {
      "provenance": [],
      "authorship_tag": "ABX9TyPAsEWoOTfT7XAcOCCOMpsX",
      "include_colab_link": true
    },
    "kernelspec": {
      "name": "python3",
      "display_name": "Python 3"
    },
    "language_info": {
      "name": "python"
    }
  },
  "cells": [
    {
      "cell_type": "markdown",
      "metadata": {
        "id": "view-in-github",
        "colab_type": "text"
      },
      "source": [
        "<a href=\"https://colab.research.google.com/github/abhaysaxena700/PYTHON-PRACTICES/blob/main/Match.ipynb\" target=\"_parent\"><img src=\"https://colab.research.google.com/assets/colab-badge.svg\" alt=\"Open In Colab\"/></a>"
      ]
    },
    {
      "cell_type": "code",
      "execution_count": null,
      "metadata": {
        "colab": {
          "base_uri": "https://localhost:8080/"
        },
        "id": "ujX5-uuF1knf",
        "outputId": "993bb96f-3151-4623-caed-d2861acdad72"
      },
      "outputs": [
        {
          "output_type": "stream",
          "name": "stdout",
          "text": [
            "None\n"
          ]
        }
      ],
      "source": [
        "#Python Match Statement\n",
        "\n",
        "month=8\n",
        "match month:\n",
        "  case 1:\n",
        "    print(\"January\")\n",
        "  case 3:\n",
        "    print(\"March\")\n",
        "  case 5:\n",
        "    print(\"May\")\n",
        "  case 7:\n",
        "    print(\"July\")\n",
        "  case 9:\n",
        "    print(\"September\")\n",
        "  case 11:\n",
        "    print(\"November\")\n",
        "  case _:\n",
        "    print(\"None\")"
      ]
    },
    {
      "cell_type": "code",
      "source": [
        "#Combine Values\n",
        "\n",
        "day=26\n",
        "match day:\n",
        "  case 5|8|13|19|23|26:\n",
        "    print(\"There is my birthday date\")\n",
        "  case  17|21|25|27|29:\n",
        "    print(\"Not my birthday\")"
      ],
      "metadata": {
        "colab": {
          "base_uri": "https://localhost:8080/"
        },
        "id": "goJo70EQ2KnO",
        "outputId": "2cac61ef-4b53-4328-97e2-92777732d4ef"
      },
      "execution_count": null,
      "outputs": [
        {
          "output_type": "stream",
          "name": "stdout",
          "text": [
            "There is my birthday date\n"
          ]
        }
      ]
    },
    {
      "cell_type": "code",
      "source": [
        "#If Statements as Guards\n",
        "\n",
        "month=7\n",
        "day=26\n",
        "match day:\n",
        "  case 5|8|13|19|23|26 if month == 7:\n",
        "    print(\"There is my birthday date\")\n",
        "  case 5|8|13|19|23|26 if month == 6:\n",
        "    print(\"Not my birthday\")\n",
        "  case _:\n",
        "    print(\"There is no match\")\n"
      ],
      "metadata": {
        "id": "iTEfl84lJkiI",
        "colab": {
          "base_uri": "https://localhost:8080/"
        },
        "outputId": "1bb0a311-f0d2-4768-e35e-b878b60d89f3"
      },
      "execution_count": null,
      "outputs": [
        {
          "output_type": "stream",
          "name": "stdout",
          "text": [
            "There is my birthday date\n"
          ]
        }
      ]
    }
  ]
}