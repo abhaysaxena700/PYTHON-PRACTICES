{
  "nbformat": 4,
  "nbformat_minor": 0,
  "metadata": {
    "colab": {
      "provenance": [],
      "authorship_tag": "ABX9TyPQuyiW5J4vl11RCUmHj9nR",
      "include_colab_link": true
    },
    "kernelspec": {
      "name": "python3",
      "display_name": "Python 3"
    },
    "language_info": {
      "name": "python"
    }
  },
  "cells": [
    {
      "cell_type": "markdown",
      "metadata": {
        "id": "view-in-github",
        "colab_type": "text"
      },
      "source": [
        "<a href=\"https://colab.research.google.com/github/abhaysaxena700/PYTHON-PRACTICES/blob/main/Sring_Methods.ipynb\" target=\"_parent\"><img src=\"https://colab.research.google.com/assets/colab-badge.svg\" alt=\"Open In Colab\"/></a>"
      ]
    },
    {
      "cell_type": "code",
      "execution_count": null,
      "metadata": {
        "colab": {
          "base_uri": "https://localhost:8080/"
        },
        "id": "xdGvh6TcxtA0",
        "outputId": "38e0c5d4-e4c1-4325-caa0-075437acd964"
      },
      "outputs": [
        {
          "output_type": "stream",
          "name": "stdout",
          "text": [
            "I want to a great coder\n",
            "i want to a great coder\n",
            "-------------i want to a Great Coder--------------\n",
            "2\n"
          ]
        }
      ],
      "source": [
        "txt=\"i want to a Great Coder\"\n",
        "print(txt.capitalize())\n",
        "print(txt.casefold())\n",
        "print(txt.center(50,\"-\"))\n",
        "print(txt.count(\"a\",10))\n"
      ]
    },
    {
      "cell_type": "code",
      "source": [
        "txt = \"H\\te\\tl\\tl\\to\"\n",
        "\n",
        "print(txt)\n",
        "print(txt.expandtabs())\n",
        "print(txt.expandtabs(2))\n",
        "print(txt.expandtabs(4))\n",
        "print(txt.expandtabs(8))"
      ],
      "metadata": {
        "colab": {
          "base_uri": "https://localhost:8080/"
        },
        "id": "HyzTsN91E5LT",
        "outputId": "7d341b08-8bc0-4080-cc1e-d334f6a44588"
      },
      "execution_count": null,
      "outputs": [
        {
          "output_type": "stream",
          "name": "stdout",
          "text": [
            "H\te\tl\tl\to\n",
            "H       e       l       l       o\n",
            "H e l l o\n",
            "H   e   l   l   o\n",
            "H       e       l       l       o\n"
          ]
        }
      ]
    },
    {
      "cell_type": "code",
      "source": [
        "txt = \"   Abhay   \"\n",
        "x = txt.isspace()\n",
        "print(x)\n",
        "txt = \"Hello, welcome to my world.\"\n",
        "x = txt.find(\"e\", 5, 10)\n",
        "print(x)\n",
        "txt = \"Hello, welcome to my world.\"\n",
        "x = txt.index(\"e\", 5, 10)\n",
        "print(x)\n",
        "txt = \"Hello, And Welcome To My World!\"\n",
        "x = txt.istitle()\n",
        "print(x)\n",
        "txt = \"Hello My Name Is PETER\"\n",
        "x = txt.swapcase()\n",
        "print(x)\n",
        "txt = \"123.4\"\n",
        "x = txt.isdecimal()\n",
        "print(x)\n",
        "myTuple = {\"John\", \"Peter\", \"Vicky\"}\n",
        "x = \"#\".join(myTuple)\n",
        "print(x)\n",
        "\n",
        "txt=\"i am earing daily {earn:.2f} rupees\"\n",
        "print(txt.format(earn=650))\n",
        "\n"
      ],
      "metadata": {
        "colab": {
          "base_uri": "https://localhost:8080/"
        },
        "id": "SVQOPp66KXdO",
        "outputId": "d0447572-4300-45b6-c279-37c05c280ea5"
      },
      "execution_count": null,
      "outputs": [
        {
          "output_type": "stream",
          "name": "stdout",
          "text": [
            "False\n",
            "8\n",
            "8\n",
            "True\n",
            "hELLO mY nAME iS peter\n",
            "False\n",
            "John#Peter#Vicky\n",
            "i am earing daily 650.00 rupees\n"
          ]
        }
      ]
    }
  ]
}