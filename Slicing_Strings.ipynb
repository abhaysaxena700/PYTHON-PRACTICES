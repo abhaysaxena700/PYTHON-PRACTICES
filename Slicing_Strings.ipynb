{
  "nbformat": 4,
  "nbformat_minor": 0,
  "metadata": {
    "colab": {
      "provenance": [],
      "authorship_tag": "ABX9TyPktPLQEyEgkNUbpJTlOO7x",
      "include_colab_link": true
    },
    "kernelspec": {
      "name": "python3",
      "display_name": "Python 3"
    },
    "language_info": {
      "name": "python"
    }
  },
  "cells": [
    {
      "cell_type": "markdown",
      "metadata": {
        "id": "view-in-github",
        "colab_type": "text"
      },
      "source": [
        "<a href=\"https://colab.research.google.com/github/abhaysaxena700/PYTHON-PRACTICES/blob/main/Slicing_Strings.ipynb\" target=\"_parent\"><img src=\"https://colab.research.google.com/assets/colab-badge.svg\" alt=\"Open In Colab\"/></a>"
      ]
    },
    {
      "cell_type": "code",
      "execution_count": null,
      "metadata": {
        "id": "z24ghpsDUEjX",
        "colab": {
          "base_uri": "https://localhost:8080/"
        },
        "outputId": "85a5ceb3-425f-4985-81f9-78d9a16bd64b"
      },
      "outputs": [
        {
          "output_type": "stream",
          "name": "stdout",
          "text": [
            "llo Wor\n",
            "Hello\n",
            " World!\n",
            "World!\n",
            "World\n"
          ]
        }
      ],
      "source": [
        "#Silicing String\n",
        "\n",
        "a=\"Hello World!\"\n",
        "print(a[2:9])\n",
        "print(a[:5])\n",
        "print(a[5:])\n",
        "print(a[-6:])\n",
        "print(a[-6:-1])"
      ]
    },
    {
      "cell_type": "code",
      "source": [
        "#Modify String\n",
        "\n",
        "a=\" I am Data Analyst\"\n",
        "print(a.upper())\n",
        "print(a.lower())\n",
        "print(a.strip())\n",
        "print(a.replace(\"Analyst\",\"Sciencist\"))\n",
        "print(a.split())"
      ],
      "metadata": {
        "colab": {
          "base_uri": "https://localhost:8080/"
        },
        "id": "dZDKJ1HkqMdi",
        "outputId": "910fc558-e609-4a60-c227-9bcd2a364762"
      },
      "execution_count": null,
      "outputs": [
        {
          "output_type": "stream",
          "name": "stdout",
          "text": [
            " I AM DATA ANALYST\n",
            " i am data analyst\n",
            "I am Data Analyst\n",
            " I am Data Sciencist\n",
            "['I', 'am', 'Data', 'Analyst']\n"
          ]
        }
      ]
    },
    {
      "cell_type": "code",
      "source": [
        "#String Concatenate\n",
        "\n",
        "x=\"Data\"\n",
        "y=\"Analyst\"\n",
        "print(x+\" \"+y)"
      ],
      "metadata": {
        "colab": {
          "base_uri": "https://localhost:8080/"
        },
        "id": "fnC5Ij8BrsEr",
        "outputId": "cfab2578-522e-4cd6-d648-18d5fae8e73f"
      },
      "execution_count": null,
      "outputs": [
        {
          "output_type": "stream",
          "name": "stdout",
          "text": [
            "Data Analyst\n"
          ]
        }
      ]
    },
    {
      "cell_type": "code",
      "source": [
        "#Format String\n",
        "\n",
        "age=26\n",
        "title=\"Data Analyst\"\n",
        "print(\"My position is \" + title)\n",
        "txt= f\"My age is {age} and I am {title}\"\n",
        "print(txt)\n",
        "daily=650\n",
        "text=f\"My daily expenses is {daily:.4f} and my income is {daily*30:.2f}\"\n",
        "print(text)"
      ],
      "metadata": {
        "colab": {
          "base_uri": "https://localhost:8080/"
        },
        "id": "N8IbWzRIsSoX",
        "outputId": "56af770d-877f-4ac6-e5a3-d90a6e0666ec"
      },
      "execution_count": null,
      "outputs": [
        {
          "output_type": "stream",
          "name": "stdout",
          "text": [
            "My position is Data Analyst\n",
            "My age is 26 and I am Data Analyst\n",
            "My daily expenses is 650.0000 and my income is 19500.00\n"
          ]
        }
      ]
    },
    {
      "cell_type": "code",
      "source": [
        "#Escape Character\n",
        "\n",
        "txt=\"I am a \\\"Data\\\" Analyst\"\n",
        "print(txt)\n",
        "txt = \"Hello\\rWorld!\"\n",
        "print(txt)\n"
      ],
      "metadata": {
        "colab": {
          "base_uri": "https://localhost:8080/"
        },
        "id": "RlJdIjhrvhW-",
        "outputId": "77ffffea-7dbd-4611-dcd2-5d7dd677031f"
      },
      "execution_count": null,
      "outputs": [
        {
          "output_type": "stream",
          "name": "stdout",
          "text": [
            "I am a \"Data\" Analyst\n",
            "Hello\rWorld!\n"
          ]
        }
      ]
    },
    {
      "cell_type": "code",
      "source": [],
      "metadata": {
        "id": "YpvMRV9jxb_R"
      },
      "execution_count": null,
      "outputs": []
    }
  ]
}