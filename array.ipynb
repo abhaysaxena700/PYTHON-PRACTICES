{
  "nbformat": 4,
  "nbformat_minor": 0,
  "metadata": {
    "colab": {
      "provenance": [],
      "authorship_tag": "ABX9TyOvqCnV8+xbrtlhdg8t9AUu",
      "include_colab_link": true
    },
    "kernelspec": {
      "name": "python3",
      "display_name": "Python 3"
    },
    "language_info": {
      "name": "python"
    }
  },
  "cells": [
    {
      "cell_type": "markdown",
      "metadata": {
        "id": "view-in-github",
        "colab_type": "text"
      },
      "source": [
        "<a href=\"https://colab.research.google.com/github/abhaysaxena700/PYTHON-PRACTICES/blob/main/array.ipynb\" target=\"_parent\"><img src=\"https://colab.research.google.com/assets/colab-badge.svg\" alt=\"Open In Colab\"/></a>"
      ]
    },
    {
      "cell_type": "code",
      "execution_count": null,
      "metadata": {
        "colab": {
          "base_uri": "https://localhost:8080/"
        },
        "id": "EfZvlHtC5dXh",
        "outputId": "0fd65e92-d2e6-499b-9b58-4a3d32675d6e"
      },
      "outputs": [
        {
          "output_type": "stream",
          "name": "stdout",
          "text": [
            "IBMD\n",
            "DRI\n",
            "INBOUND\n",
            "OUTBOUND\n",
            "4\n",
            "['IBMD', 'DRI', 'INBOUND', 'OUTBOUND', 'SMS']\n",
            "['IBMD', 'DRI', 'INBOUND', 'OUTBOUND']\n"
          ]
        }
      ],
      "source": [
        "#Array\n",
        "\n",
        "vendor=[\"IBMD\", \"DRI\", \"INBOUND\", \"OUTBOUND\"]\n",
        "for x in vendor:\n",
        "  print(x)\n",
        "print(len(vendor))\n",
        "vendor.append(\"SMS\")\n",
        "print(vendor)\n",
        "vendor.remove(\"SMS\")\n",
        "print(vendor)\n",
        "\n"
      ]
    }
  ]
}