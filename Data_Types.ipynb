{
  "nbformat": 4,
  "nbformat_minor": 0,
  "metadata": {
    "colab": {
      "provenance": [],
      "authorship_tag": "ABX9TyMl+sNRueW/vuTSVU2MViZR",
      "include_colab_link": true
    },
    "kernelspec": {
      "name": "python3",
      "display_name": "Python 3"
    },
    "language_info": {
      "name": "python"
    }
  },
  "cells": [
    {
      "cell_type": "markdown",
      "metadata": {
        "id": "view-in-github",
        "colab_type": "text"
      },
      "source": [
        "<a href=\"https://colab.research.google.com/github/abhaysaxena700/PYTHON-PRACTICES/blob/main/Data_Types.ipynb\" target=\"_parent\"><img src=\"https://colab.research.google.com/assets/colab-badge.svg\" alt=\"Open In Colab\"/></a>"
      ]
    },
    {
      "cell_type": "code",
      "execution_count": null,
      "metadata": {
        "colab": {
          "base_uri": "https://localhost:8080/"
        },
        "id": "4l5wym3dC4h_",
        "outputId": "e4bb0958-7717-4751-8837-0abf97fe20cc"
      },
      "outputs": [
        {
          "output_type": "stream",
          "name": "stdout",
          "text": [
            "Hello World\n",
            "<class 'str'>\n",
            "20\n",
            "<class 'int'>\n",
            "20.5\n",
            "<class 'float'>\n",
            "1j\n",
            "<class 'complex'>\n",
            "['apple', 'banana', 'cherry']\n",
            "<class 'list'>\n",
            "('apple', 'banana', 'cherry')\n",
            "<class 'tuple'>\n",
            "range(0, 6)\n",
            "<class 'range'>\n",
            "{'name': 'John', 'age': 36}\n",
            "<class 'dict'>\n",
            "{'cherry', 'apple', 'banana'}\n",
            "<class 'set'>\n",
            "frozenset({'cherry', 'apple', 'banana'})\n",
            "<class 'frozenset'>\n",
            "True\n",
            "<class 'bool'>\n",
            "b'\\x00\\x00\\x00\\x00\\x00'\n",
            "<class 'bytes'>\n",
            "bytearray(b'\\x00\\x00\\x00\\x00\\x00')\n",
            "<class 'bytearray'>\n",
            "<memory at 0x7847636e07c0>\n",
            "<class 'memoryview'>\n"
          ]
        }
      ],
      "source": [
        "a = str(\"Hello World\")\n",
        "print(a)\n",
        "print(type(a))\n",
        "b = int(20)\n",
        "print(b)\n",
        "print(type(b))\n",
        "c = float(20.5)\n",
        "print(c)\n",
        "print(type(c))\n",
        "d = complex(1j)\n",
        "print(d)\n",
        "print(type(d))\n",
        "e = list((\"apple\", \"banana\", \"cherry\"))\n",
        "print(e)\n",
        "print(type(e))\n",
        "f = tuple((\"apple\", \"banana\", \"cherry\"))\n",
        "print(f)\n",
        "print(type(f))\n",
        "g = range(6)\n",
        "print(g)\n",
        "print(type(g))\n",
        "h = dict(name=\"John\", age=36)\n",
        "print(h)\n",
        "print(type(h))\n",
        "i = set((\"apple\", \"banana\", \"cherry\"))\n",
        "print(i)\n",
        "print(type(i))\n",
        "j = frozenset((\"apple\", \"banana\", \"cherry\"))\n",
        "print(j)\n",
        "print(type(j))\n",
        "k = bool(5)\n",
        "print(k)\n",
        "print(type(k))\n",
        "l = bytes(5)\n",
        "print(l)\n",
        "print(type(l))\n",
        "m = bytearray(5)\n",
        "print(m)\n",
        "print(type(m))\n",
        "n = memoryview(bytes(5))\n",
        "print(n)\n",
        "print(type(n))\n"
      ]
    }
  ]
}