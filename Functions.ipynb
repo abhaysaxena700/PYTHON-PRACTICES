{
  "nbformat": 4,
  "nbformat_minor": 0,
  "metadata": {
    "colab": {
      "provenance": [],
      "authorship_tag": "ABX9TyMuUJQ5bmMCq6WWE0rTODzG",
      "include_colab_link": true
    },
    "kernelspec": {
      "name": "python3",
      "display_name": "Python 3"
    },
    "language_info": {
      "name": "python"
    }
  },
  "cells": [
    {
      "cell_type": "markdown",
      "metadata": {
        "id": "view-in-github",
        "colab_type": "text"
      },
      "source": [
        "<a href=\"https://colab.research.google.com/github/abhaysaxena700/PYTHON-PRACTICES/blob/main/Functions.ipynb\" target=\"_parent\"><img src=\"https://colab.research.google.com/assets/colab-badge.svg\" alt=\"Open In Colab\"/></a>"
      ]
    },
    {
      "cell_type": "code",
      "execution_count": null,
      "metadata": {
        "colab": {
          "base_uri": "https://localhost:8080/"
        },
        "id": "CmLvd_AnCoIh",
        "outputId": "db7c5c43-40e6-4880-bc57-fcfde6d6459a"
      },
      "outputs": [
        {
          "output_type": "stream",
          "name": "stdout",
          "text": [
            "Inland Pvt Ltd.\n",
            "Darcl Pvt Ltd.\n",
            "Western Pvt Ltd.\n"
          ]
        }
      ],
      "source": [
        "  #Functions as Arguments\n",
        "\n",
        "def myfunc(x):\n",
        "  print(x+\" Pvt Ltd.\")\n",
        "myfunc(\"Inland\")\n",
        "myfunc(\"Darcl\")\n",
        "myfunc(\"Western\")"
      ]
    },
    {
      "cell_type": "code",
      "source": [
        "#Number of Arguments\n",
        "\n",
        "def myfunc(x,y):\n",
        "  print(x+\"-\"+y)\n",
        "myfunc(\"Abhay\", \"Saxena\")"
      ],
      "metadata": {
        "colab": {
          "base_uri": "https://localhost:8080/"
        },
        "id": "ezUZznz0FrzJ",
        "outputId": "591b2e1d-94f3-4fa5-d984-cab6af05ee63"
      },
      "execution_count": null,
      "outputs": [
        {
          "output_type": "stream",
          "name": "stdout",
          "text": [
            "Abhay-Saxena\n"
          ]
        }
      ]
    },
    {
      "cell_type": "code",
      "source": [
        "#Arbitrary Arguments, *args\n",
        "\n",
        "def myfunc(*x):\n",
        "  print(\"My statement is:\"+x[1])\n",
        "myfunc(\"Inbound\",\"Outbound\",\"Railways\")"
      ],
      "metadata": {
        "colab": {
          "base_uri": "https://localhost:8080/"
        },
        "id": "Y7ITl993Hd-G",
        "outputId": "1526e010-5bc2-4f26-e8ba-d5d470b69774"
      },
      "execution_count": null,
      "outputs": [
        {
          "output_type": "stream",
          "name": "stdout",
          "text": [
            "My statement is:Outbound\n"
          ]
        }
      ]
    },
    {
      "cell_type": "code",
      "source": [
        "#Keyword Arguments\n",
        "\n",
        "def myfunc(vendor1, vendor2, vendor3):\n",
        "  print(\"the top vendors is: \",vendor2)\n",
        "myfunc(vendor1=\"Inland\", vendor2=\"UAE\", vendor3=\"Lucky\")"
      ],
      "metadata": {
        "colab": {
          "base_uri": "https://localhost:8080/"
        },
        "id": "49UGz-pjH9Oa",
        "outputId": "2e417a9b-79ef-4079-bd91-d787ea09d021"
      },
      "execution_count": null,
      "outputs": [
        {
          "output_type": "stream",
          "name": "stdout",
          "text": [
            "the top vendors is:  UAE\n"
          ]
        }
      ]
    },
    {
      "cell_type": "code",
      "source": [
        "#Arbitrary Keyword Arguments, **kwargs\n",
        "\n",
        "def myfunc(**name):\n",
        "  print(\"My name is :\", name[\"fname\"])\n",
        "myfunc(fname=\"Abhay\", lname=\"Saxena\")\n"
      ],
      "metadata": {
        "colab": {
          "base_uri": "https://localhost:8080/"
        },
        "id": "uDbkLH0wZS_Q",
        "outputId": "79ef569b-cdd6-4c27-d5cf-56e36ef38715"
      },
      "execution_count": null,
      "outputs": [
        {
          "output_type": "stream",
          "name": "stdout",
          "text": [
            "My name is : Abhay\n"
          ]
        }
      ]
    },
    {
      "cell_type": "code",
      "source": [
        "#Default Parameter Value\n",
        "\n",
        "def myfunc(country=\"India\"):\n",
        "  print(\" I am from: \"+country)\n",
        "myfunc(country=\"Pakistan\")\n",
        "myfunc(country=\"Russia\")\n",
        "myfunc()\n",
        "myfunc(country=\"Brazil\")\n",
        "myfunc(country=\"Sri Lanka\")\n"
      ],
      "metadata": {
        "colab": {
          "base_uri": "https://localhost:8080/"
        },
        "id": "QJOp8dxfd1G0",
        "outputId": "ab7de519-3224-486d-c55d-a5090e3bc296"
      },
      "execution_count": null,
      "outputs": [
        {
          "output_type": "stream",
          "name": "stdout",
          "text": [
            " I am from: Pakistan\n",
            " I am from: Russia\n",
            " I am from: India\n",
            " I am from: Brazil\n",
            " I am from: Sri Lanka\n"
          ]
        }
      ]
    },
    {
      "cell_type": "code",
      "source": [
        "#Passing a List as an Argument\n",
        "\n",
        "num=[1,2,3]\n",
        "def myfunc(item):\n",
        "  for x in item:\n",
        "    print(x)\n",
        "item=[\"Abhay\", \"Ashi\"]\n",
        "num=[1,2,3]\n",
        "myfunc(item)"
      ],
      "metadata": {
        "id": "G4RmcOWJeabm",
        "colab": {
          "base_uri": "https://localhost:8080/"
        },
        "outputId": "72450114-8422-4bb0-bbe4-253df9df17d2"
      },
      "execution_count": null,
      "outputs": [
        {
          "output_type": "stream",
          "name": "stdout",
          "text": [
            "Abhay\n",
            "Ashi\n"
          ]
        }
      ]
    },
    {
      "cell_type": "code",
      "source": [
        "#Return Values\n",
        "\n",
        "def myfunc(x):\n",
        "  return 10*x\n",
        "print(myfunc(2))\n",
        "print(myfunc(4))\n",
        "print(myfunc(6))\n",
        "print(myfunc(8))"
      ],
      "metadata": {
        "colab": {
          "base_uri": "https://localhost:8080/"
        },
        "id": "rfFHXtZNE2cY",
        "outputId": "ac22b91b-8a1b-4393-cae4-5532a1d97a08"
      },
      "execution_count": null,
      "outputs": [
        {
          "output_type": "stream",
          "name": "stdout",
          "text": [
            "20\n",
            "40\n",
            "60\n",
            "80\n"
          ]
        }
      ]
    },
    {
      "cell_type": "code",
      "source": [
        "#The pass Statement\n",
        "\n",
        "def myfunc():\n",
        "  pass"
      ],
      "metadata": {
        "id": "Kyd_xdfvFcAY"
      },
      "execution_count": null,
      "outputs": []
    },
    {
      "cell_type": "code",
      "source": [
        "#Positional-Only Arguments\n",
        "\n",
        "def myfunc(x,/):\n",
        "  print(x)\n",
        "myfunc(4)"
      ],
      "metadata": {
        "colab": {
          "base_uri": "https://localhost:8080/"
        },
        "id": "YK8JqnCvFmGl",
        "outputId": "551ebfa3-b8c8-4400-e183-897c747c24bb"
      },
      "execution_count": null,
      "outputs": [
        {
          "output_type": "stream",
          "name": "stdout",
          "text": [
            "4\n"
          ]
        }
      ]
    },
    {
      "cell_type": "code",
      "source": [
        "#Keyword-Only Arguments\n",
        "\n",
        "def myfunc(*,x):\n",
        "  print(x)\n",
        "myfunc(x=5)"
      ],
      "metadata": {
        "colab": {
          "base_uri": "https://localhost:8080/"
        },
        "id": "8D1Lja6aH3ur",
        "outputId": "38cd656e-10dd-4724-ccb0-c9608885a4be"
      },
      "execution_count": null,
      "outputs": [
        {
          "output_type": "stream",
          "name": "stdout",
          "text": [
            "5\n"
          ]
        }
      ]
    },
    {
      "cell_type": "code",
      "source": [
        "#Combine Positional-Only and Keyword-Only\n",
        "\n",
        "def myfunc(a,b,/,*,c,d):\n",
        "  print(a*b*c*d)\n",
        "myfunc(2,4,c=6,d=8)"
      ],
      "metadata": {
        "colab": {
          "base_uri": "https://localhost:8080/"
        },
        "id": "f_pzlV9wJAIn",
        "outputId": "d5b06a6c-1853-4d5a-de53-0ba37e13ca1e"
      },
      "execution_count": null,
      "outputs": [
        {
          "output_type": "stream",
          "name": "stdout",
          "text": [
            "384\n"
          ]
        }
      ]
    }
  ]
}