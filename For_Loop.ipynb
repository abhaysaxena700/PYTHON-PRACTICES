{
  "nbformat": 4,
  "nbformat_minor": 0,
  "metadata": {
    "colab": {
      "provenance": [],
      "authorship_tag": "ABX9TyMjZKBTGHPYkia6zaTo8NDa",
      "include_colab_link": true
    },
    "kernelspec": {
      "name": "python3",
      "display_name": "Python 3"
    },
    "language_info": {
      "name": "python"
    }
  },
  "cells": [
    {
      "cell_type": "markdown",
      "metadata": {
        "id": "view-in-github",
        "colab_type": "text"
      },
      "source": [
        "<a href=\"https://colab.research.google.com/github/abhaysaxena700/PYTHON-PRACTICES/blob/main/For_Loop.ipynb\" target=\"_parent\"><img src=\"https://colab.research.google.com/assets/colab-badge.svg\" alt=\"Open In Colab\"/></a>"
      ]
    },
    {
      "cell_type": "code",
      "execution_count": null,
      "metadata": {
        "colab": {
          "base_uri": "https://localhost:8080/"
        },
        "id": "4e2-4AumSm20",
        "outputId": "4395c270-942f-4659-ee21-19e307e559c2"
      },
      "outputs": [
        {
          "output_type": "stream",
          "name": "stdout",
          "text": [
            "DRI\n",
            "IBMD\n",
            "RMHS\n"
          ]
        }
      ],
      "source": [
        "#Python For Loops\n",
        "\n",
        "dept=[\"DRI\", \"IBMD\", \"RMHS\"]\n",
        "for x in dept:\n",
        "  print(x)"
      ]
    },
    {
      "cell_type": "code",
      "source": [
        "#Looping Through a String\n",
        "\n",
        "for x in \"logistics\":\n",
        "  print(x)"
      ],
      "metadata": {
        "colab": {
          "base_uri": "https://localhost:8080/"
        },
        "id": "BLi-NIQ4Uotd",
        "outputId": "5ea4ac00-27fc-4ec3-df21-5a6f180f5c8b"
      },
      "execution_count": null,
      "outputs": [
        {
          "output_type": "stream",
          "name": "stdout",
          "text": [
            "l\n",
            "o\n",
            "g\n",
            "i\n",
            "s\n",
            "t\n",
            "i\n",
            "c\n",
            "s\n"
          ]
        }
      ]
    },
    {
      "cell_type": "code",
      "source": [
        "#The break Statement\n",
        "\n",
        "vendor=(\"LS\",\"LMPL\", \"INLAND\", \"UIL\",\"SSE\", \"UAE\", \"IMSAS\")\n",
        "print(\"Exit the loop when x is SSE:\")\n",
        "for x in vendor:\n",
        "  print(x)\n",
        "  if x==\"SSE\":\n",
        "    break\n",
        "print(\"-----------------------------------------\")\n",
        "print(\"Exit the loop when x is SSE, but this time the break comes before the print:\")\n",
        "for x in vendor:\n",
        "  if x==\"SSE\":\n",
        "    break\n",
        "  print(x)"
      ],
      "metadata": {
        "colab": {
          "base_uri": "https://localhost:8080/"
        },
        "id": "GgcWFytbVCZD",
        "outputId": "00ef9264-139d-4420-854c-9c2aedbb5341"
      },
      "execution_count": null,
      "outputs": [
        {
          "output_type": "stream",
          "name": "stdout",
          "text": [
            "Exit the loop when x is SSE:\n",
            "LS\n",
            "LMPL\n",
            "INLAND\n",
            "UIL\n",
            "SSE\n",
            "-----------------------------------------\n",
            "Exit the loop when x is SSE, but this time the break comes before the print:\n",
            "LS\n",
            "LMPL\n",
            "INLAND\n",
            "UIL\n"
          ]
        }
      ]
    },
    {
      "cell_type": "code",
      "source": [
        "#The continue Statement\n",
        "\n",
        "vendor=(\"LS\",\"LMPL\", \"INLAND\", \"UIL\",\"SSE\", \"UAE\", \"IMSAS\")\n",
        "for x in vendor:\n",
        "  if x==\"SSE\":\n",
        "    continue\n",
        "  print(x)"
      ],
      "metadata": {
        "colab": {
          "base_uri": "https://localhost:8080/"
        },
        "id": "MhM-y79MXacM",
        "outputId": "94675c34-8c8f-45be-ed09-7b550470f09c"
      },
      "execution_count": null,
      "outputs": [
        {
          "output_type": "stream",
          "name": "stdout",
          "text": [
            "LS\n",
            "LMPL\n",
            "INLAND\n",
            "UIL\n",
            "UAE\n",
            "IMSAS\n"
          ]
        }
      ]
    },
    {
      "cell_type": "code",
      "source": [
        "#The range() Function\n",
        "\n",
        "a=6\n",
        "for x in range(a):\n",
        "  print(x)\n",
        "print(\"==================\")\n",
        "for x in range(13,18):\n",
        "  print(x)"
      ],
      "metadata": {
        "colab": {
          "base_uri": "https://localhost:8080/"
        },
        "id": "iZoPVRClX0k8",
        "outputId": "e591a706-727e-4fd8-8fe9-76440d7a6826"
      },
      "execution_count": null,
      "outputs": [
        {
          "output_type": "stream",
          "name": "stdout",
          "text": [
            "0\n",
            "1\n",
            "2\n",
            "3\n",
            "4\n",
            "5\n",
            "==================\n",
            "13\n",
            "14\n",
            "15\n",
            "16\n",
            "17\n"
          ]
        }
      ]
    },
    {
      "cell_type": "code",
      "source": [
        "#Increment the sequence\n",
        "\n",
        "for x in range(1,30,5):\n",
        "  print(x)"
      ],
      "metadata": {
        "colab": {
          "base_uri": "https://localhost:8080/"
        },
        "id": "03mitokwYopJ",
        "outputId": "6b9590c9-faa9-4b91-a1d4-4c19807c4d78"
      },
      "execution_count": null,
      "outputs": [
        {
          "output_type": "stream",
          "name": "stdout",
          "text": [
            "1\n",
            "6\n",
            "11\n",
            "16\n",
            "21\n",
            "26\n"
          ]
        }
      ]
    },
    {
      "cell_type": "code",
      "source": [
        "#Else in For Loop\n",
        "\n",
        "for x in range(1,10,2):\n",
        "  print(x)\n",
        "else:\n",
        "  print(\"Loop Over\")\n",
        "print(\"==========================\")\n",
        "for x in range(1,30,3):\n",
        "  if x==16:\n",
        "    break\n",
        "  print(x)\n",
        "else:\n",
        "  print(\"Loop Over\")\n"
      ],
      "metadata": {
        "colab": {
          "base_uri": "https://localhost:8080/"
        },
        "id": "ylcXKqtEZEa5",
        "outputId": "d5ad210a-e478-4361-aba0-f75714b8d59e"
      },
      "execution_count": null,
      "outputs": [
        {
          "output_type": "stream",
          "name": "stdout",
          "text": [
            "1\n",
            "3\n",
            "5\n",
            "7\n",
            "9\n",
            "Loop Over\n",
            "==========================\n",
            "1\n",
            "4\n",
            "7\n",
            "10\n",
            "13\n"
          ]
        }
      ]
    },
    {
      "cell_type": "code",
      "source": [
        "#Nested Loops\n",
        "\n",
        "vendor=(\"LS\",\"LMPL\", \"INLAND\", \"UIL\",\"SSE\", \"UAE\", \"IMSAS\")\n",
        "dept=[\"DRI\", \"IBMD\", \"RMHS\"]\n",
        "for x in dept:\n",
        "  for y in vendor:\n",
        "    print(x,y)"
      ],
      "metadata": {
        "colab": {
          "base_uri": "https://localhost:8080/"
        },
        "id": "oX2MuamNa0PR",
        "outputId": "02b7b510-e605-4702-a4c8-fade8b65fe9b"
      },
      "execution_count": null,
      "outputs": [
        {
          "output_type": "stream",
          "name": "stdout",
          "text": [
            "DRI LS\n",
            "DRI LMPL\n",
            "DRI INLAND\n",
            "DRI UIL\n",
            "DRI SSE\n",
            "DRI UAE\n",
            "DRI IMSAS\n",
            "IBMD LS\n",
            "IBMD LMPL\n",
            "IBMD INLAND\n",
            "IBMD UIL\n",
            "IBMD SSE\n",
            "IBMD UAE\n",
            "IBMD IMSAS\n",
            "RMHS LS\n",
            "RMHS LMPL\n",
            "RMHS INLAND\n",
            "RMHS UIL\n",
            "RMHS SSE\n",
            "RMHS UAE\n",
            "RMHS IMSAS\n"
          ]
        }
      ]
    },
    {
      "cell_type": "code",
      "source": [
        "#The pass Statement\n",
        "\n",
        "for x in [0, 8, 3]:\n",
        "  pass\n"
      ],
      "metadata": {
        "id": "gY8GL_ubjRCQ"
      },
      "execution_count": null,
      "outputs": []
    }
  ]
}