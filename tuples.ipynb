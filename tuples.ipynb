{
  "nbformat": 4,
  "nbformat_minor": 0,
  "metadata": {
    "colab": {
      "provenance": [],
      "authorship_tag": "ABX9TyP/snQhGQUPbScNhmq/OuHG",
      "include_colab_link": true
    },
    "kernelspec": {
      "name": "python3",
      "display_name": "Python 3"
    },
    "language_info": {
      "name": "python"
    }
  },
  "cells": [
    {
      "cell_type": "markdown",
      "metadata": {
        "id": "view-in-github",
        "colab_type": "text"
      },
      "source": [
        "<a href=\"https://colab.research.google.com/github/abhaysaxena700/PYTHON-PRACTICES/blob/main/tuples.ipynb\" target=\"_parent\"><img src=\"https://colab.research.google.com/assets/colab-badge.svg\" alt=\"Open In Colab\"/></a>"
      ]
    },
    {
      "cell_type": "code",
      "execution_count": null,
      "metadata": {
        "colab": {
          "base_uri": "https://localhost:8080/"
        },
        "id": "LMyw5xPNoHSk",
        "outputId": "2da4c3af-5c09-41b1-ce81-73b7b1ba3c18"
      },
      "outputs": [
        {
          "output_type": "stream",
          "name": "stdout",
          "text": [
            "('Inbound', 'Outbound', 'Dri', 'Rmpp', 'Outbound', 'Dri')\n",
            "6\n",
            "<class 'tuple'>\n",
            "('Sinter', 'Dolo', 10, True, 10.12, 'Lime', False)\n",
            "<class 'tuple'>\n",
            "------------------------------------------------\n",
            "('Sinter', 'Dolo', 10, True, 10.12, 'Lime', False)\n",
            "<class 'tuple'>\n",
            "------------------\n",
            "<class 'tuple'>\n",
            "<class 'str'>\n"
          ]
        }
      ],
      "source": [
        "#Python Tuples\n",
        "\n",
        "Department=(\"Inbound\", \"Outbound\", \"Dri\", \"Rmpp\", \"Outbound\", \"Dri\")\n",
        "print(Department)\n",
        "print(len(Department))\n",
        "print(type(Department))\n",
        "\n",
        "example=(\"Sinter\", \"Dolo\", 10, True, 10.12,\"Lime\", False)\n",
        "print(example)\n",
        "print(type(example))\n",
        "print(\"------------------------------------------------\")\n",
        "exp=tuple((\"Sinter\", \"Dolo\", 10, True, 10.12,\"Lime\", False))\n",
        "print(exp)\n",
        "print(type(exp))\n",
        "\n",
        "#Create Tuple With One Item\n",
        "print(\"------------------\")\n",
        "a=(\"Sinter\",)\n",
        "print(type(a))\n",
        "b=(\"Sinter\")\n",
        "print(type(b))\n",
        "\n"
      ]
    },
    {
      "cell_type": "code",
      "source": [
        "#Python - Access Tuple Items\n",
        "\n",
        "Department=(\"Inbound\", \"Outbound\", \"Dri\", \"Rmpp\", \"Outbound\", \"Dri\")\n",
        "print(Department[1])\n",
        "print(Department[-1])\n",
        "print(Department[1:4])\n",
        "print(Department[:4])\n",
        "print(Department[2:])\n",
        "print(Department[-4:-1])\n",
        "print(Department.count(\"Outbound\"))\n",
        "print(Department.index(\"Dri\"))\n",
        "print(\"Rmpp\" in Department)\n",
        "print(\"Rmpp\" not in Department)\n",
        "print(tuple((\"Inbound\", \"Outbound\", \"Dri\", \"Rmpp\", \"Outbound\", \"Dri\")))\n",
        "print(tuple((\"Inbound\", \"Outbound\", \"Dri\", \"Rmpp\", \"Outbound\", \"Dri\"))[1])\n",
        "#Check if Item Exists\n",
        "print(\"------------------------------\")\n",
        "if \"Rmpp\" in Department:\n",
        "    print(\"Yes, 'Rmpp' is in the Department tuple\")\n"
      ],
      "metadata": {
        "colab": {
          "base_uri": "https://localhost:8080/"
        },
        "id": "JvWhyq_7rltj",
        "outputId": "1b6727eb-a542-4772-c772-e68610c37332"
      },
      "execution_count": null,
      "outputs": [
        {
          "output_type": "stream",
          "name": "stdout",
          "text": [
            "Outbound\n",
            "Dri\n",
            "('Outbound', 'Dri', 'Rmpp')\n",
            "('Inbound', 'Outbound', 'Dri', 'Rmpp')\n",
            "('Dri', 'Rmpp', 'Outbound', 'Dri')\n",
            "('Dri', 'Rmpp', 'Outbound')\n",
            "2\n",
            "2\n",
            "True\n",
            "False\n",
            "('Inbound', 'Outbound', 'Dri', 'Rmpp', 'Outbound', 'Dri')\n",
            "Outbound\n",
            "------------------------------\n",
            "Yes, 'Rmpp' is in the Department tuple\n"
          ]
        }
      ]
    },
    {
      "cell_type": "code",
      "source": [
        "#Python - Update Tuples\n",
        "#Change Tuple Values\n",
        "\n",
        "Department=(\"Inbound\", \"Outbound\", \"Dri\", \"Rmpp\",\"Rmhs\", \"Hsm\", \"Crm\")\n",
        "dept=list(Department)\n",
        "dept[1]=\"Wagon Trippler\"\n",
        "Department=tuple(dept)\n",
        "print(Department)\n",
        "dep=list(Department)\n",
        "dep.append(\"SP\")\n",
        "Department=tuple(dep)\n",
        "print(Department)\n",
        "\n",
        "x=(\"Inbound\", \"Outbound\", \"Dri\")\n",
        "y=(\"Rmpp\",\"Rmhs\", \"Hsm\", \"Crm\")\n",
        "x+=y\n",
        "print(x)\n",
        "z=list(x)\n",
        "z.remove(\"Hsm\")\n",
        "x=tuple(z)\n",
        "print(x)"
      ],
      "metadata": {
        "colab": {
          "base_uri": "https://localhost:8080/"
        },
        "id": "MrqgTDdJt4bS",
        "outputId": "695bdd6f-35e1-4243-c28b-663f7467673c"
      },
      "execution_count": null,
      "outputs": [
        {
          "output_type": "stream",
          "name": "stdout",
          "text": [
            "('Inbound', 'Wagon Trippler', 'Dri', 'Rmpp', 'Rmhs', 'Hsm', 'Crm')\n",
            "('Inbound', 'Wagon Trippler', 'Dri', 'Rmpp', 'Rmhs', 'Hsm', 'Crm', 'SP')\n",
            "('Inbound', 'Outbound', 'Dri', 'Rmpp', 'Rmhs', 'Hsm', 'Crm')\n",
            "('Inbound', 'Outbound', 'Dri', 'Rmpp', 'Rmhs', 'Crm')\n"
          ]
        }
      ]
    },
    {
      "cell_type": "code",
      "source": [
        "#Python - Unpack Tuples\n",
        "\n",
        "Department=(\"Inbound\", \"Outbound\", \"Dri\", \"Rmpp\",\"Rmhs\", \"Hsm\", \"Crm\")\n",
        "(SSE, Inland, *LS, LM)=Department\n",
        "print(SSE)\n",
        "print(Inland)\n",
        "print(LS)\n",
        "print(LM)"
      ],
      "metadata": {
        "colab": {
          "base_uri": "https://localhost:8080/"
        },
        "id": "oSYdPbTKFe8p",
        "outputId": "2f87c8eb-44f0-4d31-bafb-3a54fba4f825"
      },
      "execution_count": null,
      "outputs": [
        {
          "output_type": "stream",
          "name": "stdout",
          "text": [
            "Inbound\n",
            "Outbound\n",
            "['Dri', 'Rmpp', 'Rmhs', 'Hsm']\n",
            "Crm\n"
          ]
        }
      ]
    },
    {
      "cell_type": "code",
      "source": [
        "#Loop Through a Tuple\n",
        "\n",
        "Department=(\"Rmpp\",\"Rmhs\", \"Hsm\", \"Crm\")\n",
        "for i in Department:\n",
        "  print(i)\n",
        "\n",
        "#Loop Through the Index Numbers\n",
        "print(\"---------------------\")\n",
        "\n",
        "for i in range(len(Department)):\n",
        "  print(Department[i])\n",
        "\n",
        "#Using a While Loop\n",
        "print(\"---------------------\")\n",
        "i=0\n",
        "while i <len(Department):\n",
        "  print(Department[i])\n",
        "  i+=1"
      ],
      "metadata": {
        "colab": {
          "base_uri": "https://localhost:8080/"
        },
        "id": "HwsQ5IVAGE4v",
        "outputId": "e460d0ab-767e-4b77-eb56-2158bebf5f87"
      },
      "execution_count": null,
      "outputs": [
        {
          "output_type": "stream",
          "name": "stdout",
          "text": [
            "Rmpp\n",
            "Rmhs\n",
            "Hsm\n",
            "Crm\n",
            "---------------------\n",
            "Rmpp\n",
            "Rmhs\n",
            "Hsm\n",
            "Crm\n",
            "---------------------\n",
            "Rmpp\n",
            "Rmhs\n",
            "Hsm\n",
            "Crm\n"
          ]
        }
      ]
    },
    {
      "cell_type": "code",
      "source": [
        "#Python - Join Tuples\n",
        "\n",
        "x=(\"Inbound\", \"Outbound\", \"Dri\")\n",
        "y=(\"Rmpp\",\"Rmhs\", \"Hsm\", \"Crm\")\n",
        "z=x+y\n",
        "print(z)\n",
        "a=z*2\n",
        "print(a)"
      ],
      "metadata": {
        "id": "cSPGXGciHZWB",
        "colab": {
          "base_uri": "https://localhost:8080/"
        },
        "outputId": "b057ad18-669e-4b40-e8b4-617078c340d3"
      },
      "execution_count": null,
      "outputs": [
        {
          "output_type": "stream",
          "name": "stdout",
          "text": [
            "('Inbound', 'Outbound', 'Dri', 'Rmpp', 'Rmhs', 'Hsm', 'Crm')\n",
            "('Inbound', 'Outbound', 'Dri', 'Rmpp', 'Rmhs', 'Hsm', 'Crm', 'Inbound', 'Outbound', 'Dri', 'Rmpp', 'Rmhs', 'Hsm', 'Crm')\n"
          ]
        }
      ]
    },
    {
      "cell_type": "code",
      "source": [],
      "metadata": {
        "id": "O2v93elccMQm"
      },
      "execution_count": null,
      "outputs": []
    }
  ]
}