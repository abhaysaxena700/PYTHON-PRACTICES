{
  "nbformat": 4,
  "nbformat_minor": 0,
  "metadata": {
    "colab": {
      "provenance": [],
      "authorship_tag": "ABX9TyNl7QtRSvetiZ1coBn6AtNv",
      "include_colab_link": true
    },
    "kernelspec": {
      "name": "python3",
      "display_name": "Python 3"
    },
    "language_info": {
      "name": "python"
    }
  },
  "cells": [
    {
      "cell_type": "markdown",
      "metadata": {
        "id": "view-in-github",
        "colab_type": "text"
      },
      "source": [
        "<a href=\"https://colab.research.google.com/github/abhaysaxena700/PYTHON-PRACTICES/blob/main/Python_Variables.ipynb\" target=\"_parent\"><img src=\"https://colab.research.google.com/assets/colab-badge.svg\" alt=\"Open In Colab\"/></a>"
      ]
    },
    {
      "cell_type": "code",
      "execution_count": null,
      "metadata": {
        "id": "BAIL4Kmyf0Tn",
        "colab": {
          "base_uri": "https://localhost:8080/"
        },
        "outputId": "b58a0c61-8d54-44b0-d9f0-073a9d23b8de"
      },
      "outputs": [
        {
          "output_type": "stream",
          "name": "stdout",
          "text": [
            "<class 'int'>\n",
            "26\n",
            "Abhay\n",
            "<class 'str'>\n",
            "Ashi\n"
          ]
        }
      ],
      "source": [
        "#Python Variables\n",
        "\n",
        "x=26\n",
        "y=\"Abhay\"\n",
        "print(type(x))\n",
        "print(x)\n",
        "print(y)\n",
        "x=\"Ashi\"\n",
        "print(type(x))\n",
        "print(x)"
      ]
    },
    {
      "cell_type": "code",
      "source": [
        "x=int(4)\n",
        "y=str(5)\n",
        "z=float(6)\n",
        "print(x,\" \",y,\" \",z)"
      ],
      "metadata": {
        "colab": {
          "base_uri": "https://localhost:8080/"
        },
        "id": "LM5Xw1zrkFMa",
        "outputId": "d8004ddc-4cf2-4434-fd65-ff849771181e"
      },
      "execution_count": null,
      "outputs": [
        {
          "output_type": "stream",
          "name": "stdout",
          "text": [
            "4   5   6.0\n"
          ]
        }
      ]
    },
    {
      "cell_type": "code",
      "source": [
        "a=26\n",
        "A=\"abhay\"\n",
        "print(a)"
      ],
      "metadata": {
        "colab": {
          "base_uri": "https://localhost:8080/"
        },
        "id": "LJZgE2UYkktY",
        "outputId": "93eedb9e-0fa0-4304-f466-be351b7aec09"
      },
      "execution_count": null,
      "outputs": [
        {
          "output_type": "stream",
          "name": "stdout",
          "text": [
            "26\n"
          ]
        }
      ]
    },
    {
      "cell_type": "code",
      "source": [
        "#Variables Names\n",
        "\n",
        "myName=\"Abhay\"\n",
        "MyName=\"Ashi\"\n",
        "my_Name=\"Yogesh\"\n",
        "My_name=\"Geeta\"\n"
      ],
      "metadata": {
        "id": "FlDxR-30kuVN"
      },
      "execution_count": null,
      "outputs": []
    },
    {
      "cell_type": "code",
      "source": [
        "#Assign Multiple Values\n",
        "\n",
        "x,y,z=\"DRI\",\"IBMD\",\"LIME\"\n",
        "print(x)\n",
        "print(y)\n",
        "print(z)"
      ],
      "metadata": {
        "colab": {
          "base_uri": "https://localhost:8080/"
        },
        "id": "kgwFDyVjlo3_",
        "outputId": "4c7d54e5-ed3a-4fbf-b87e-303be4898157"
      },
      "execution_count": null,
      "outputs": [
        {
          "output_type": "stream",
          "name": "stdout",
          "text": [
            "DRI\n",
            "IBMD\n",
            "LIME\n"
          ]
        }
      ]
    },
    {
      "cell_type": "code",
      "source": [
        "x=y=z=\"LOGISTICS\"\n",
        "print(x)\n",
        "print(y)\n",
        "print(z)"
      ],
      "metadata": {
        "colab": {
          "base_uri": "https://localhost:8080/"
        },
        "id": "DGYMpp_cl3Ll",
        "outputId": "1561fd86-3adc-4795-a523-1784f591e8f3"
      },
      "execution_count": null,
      "outputs": [
        {
          "output_type": "stream",
          "name": "stdout",
          "text": [
            "LOGISTICS\n",
            "LOGISTICS\n",
            "LOGISTICS\n"
          ]
        }
      ]
    },
    {
      "cell_type": "code",
      "source": [
        "vendor=[\"UIL\", \"INLAND\", \"LUCKY\"]\n",
        "x,y,z=vendor\n",
        "print(x)\n",
        "print(y)\n",
        "print(z)"
      ],
      "metadata": {
        "colab": {
          "base_uri": "https://localhost:8080/"
        },
        "id": "QvOyBQU-m4gM",
        "outputId": "5929ac09-11ea-48bf-9490-2998035c71f3"
      },
      "execution_count": null,
      "outputs": [
        {
          "output_type": "stream",
          "name": "stdout",
          "text": [
            "UIL\n",
            "INLAND\n",
            "LUCKY\n"
          ]
        }
      ]
    },
    {
      "cell_type": "code",
      "source": [
        "#Output Variables\n",
        "\n",
        "print(\"We have only three vendors: \", x,y,z)\n",
        "print(x+y+z)\n",
        "print(a,x,y,z)"
      ],
      "metadata": {
        "colab": {
          "base_uri": "https://localhost:8080/"
        },
        "id": "XwhHNd0SnusP",
        "outputId": "37ece4a2-dbd5-45c5-ecab-facf933bafe3"
      },
      "execution_count": null,
      "outputs": [
        {
          "output_type": "stream",
          "name": "stdout",
          "text": [
            "We have only three vendors:  Inland INLAND LUCKY\n",
            "InlandINLANDLUCKY\n",
            "26 Inland INLAND LUCKY\n"
          ]
        }
      ]
    },
    {
      "cell_type": "code",
      "source": [
        "x=\"Inland\"\n",
        "def myfunc():\n",
        "  global y\n",
        "  y=\"Lucky\"\n",
        "  print(\"Vendor is: \",x)\n",
        "myfunc()\n",
        "print(\"Vendor is: \",x)\n",
        "print(\"Vendor is: \",y)"
      ],
      "metadata": {
        "colab": {
          "base_uri": "https://localhost:8080/"
        },
        "id": "8Fg7xZeYot7r",
        "outputId": "24887ada-fddb-41e1-fcfc-0fc2c90873c7"
      },
      "execution_count": null,
      "outputs": [
        {
          "output_type": "stream",
          "name": "stdout",
          "text": [
            "Vendor is:  Inland\n",
            "Vendor is:  Inland\n",
            "Vendor is:  Lucky\n"
          ]
        }
      ]
    },
    {
      "cell_type": "code",
      "source": [
        "x=\"Inbound\"\n",
        "def myfunc():\n",
        "  global x\n",
        "  x=\"IBMD\"\n",
        "myfunc()\n",
        "print(\"Vendor is: \"+x)\n"
      ],
      "metadata": {
        "colab": {
          "base_uri": "https://localhost:8080/"
        },
        "id": "2upfKQ2o_gRV",
        "outputId": "ed4712e7-39ca-4a70-b3e6-3bec8fd6f104"
      },
      "execution_count": null,
      "outputs": [
        {
          "output_type": "stream",
          "name": "stdout",
          "text": [
            "Vendor is: IBMD\n"
          ]
        }
      ]
    },
    {
      "cell_type": "code",
      "source": [
        "x=\"LMPL\"\n",
        "def myfunc():\n",
        "  global x\n",
        "  x=\"UIL\"\n",
        "  print(\"Vendor is: \"+x)\n",
        "myfunc()\n",
        "print(\"Vendor is: \"+x)"
      ],
      "metadata": {
        "colab": {
          "base_uri": "https://localhost:8080/"
        },
        "id": "HWNd0EwnAyA-",
        "outputId": "20576de7-018d-4bf1-bee1-05270cca8e5b"
      },
      "execution_count": null,
      "outputs": [
        {
          "output_type": "stream",
          "name": "stdout",
          "text": [
            "Vendor is: UIL\n",
            "Vendor is: UIL\n"
          ]
        }
      ]
    }
  ]
}