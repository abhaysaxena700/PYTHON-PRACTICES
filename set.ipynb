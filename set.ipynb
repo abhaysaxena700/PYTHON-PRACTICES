{
  "nbformat": 4,
  "nbformat_minor": 0,
  "metadata": {
    "colab": {
      "provenance": [],
      "authorship_tag": "ABX9TyMmqwKTxZr8NHb0RHXHHsJI",
      "include_colab_link": true
    },
    "kernelspec": {
      "name": "python3",
      "display_name": "Python 3"
    },
    "language_info": {
      "name": "python"
    }
  },
  "cells": [
    {
      "cell_type": "markdown",
      "metadata": {
        "id": "view-in-github",
        "colab_type": "text"
      },
      "source": [
        "<a href=\"https://colab.research.google.com/github/abhaysaxena700/PYTHON-PRACTICES/blob/main/set.ipynb\" target=\"_parent\"><img src=\"https://colab.research.google.com/assets/colab-badge.svg\" alt=\"Open In Colab\"/></a>"
      ]
    },
    {
      "cell_type": "code",
      "execution_count": null,
      "metadata": {
        "colab": {
          "base_uri": "https://localhost:8080/"
        },
        "id": "WkzF82iSf6l5",
        "outputId": "d4964c68-3b30-4e0e-94db-0a09b49f7fc7"
      },
      "outputs": [
        {
          "output_type": "stream",
          "name": "stdout",
          "text": [
            "{'UIL', 'UAE', 'SSE', 'INLAND', 'LM', 'LS'}\n",
            "{1, 2, 5, 6, 8}\n",
            "{False, True}\n",
            "<class 'set'>\n",
            "<class 'set'>\n",
            "<class 'set'>\n",
            "6\n",
            "{'UAE', 'SSE', 'INLAND', 'LM', 'LS', 'UIL'}\n"
          ]
        }
      ],
      "source": [
        "#Python Sets\n",
        "\n",
        "vendor={\"LS\", \"LM\",\"SSE\",\"UIL\", \"UAE\", \"INLAND\"}\n",
        "num={2,5,1,2,6,5,8}\n",
        "bol={True, False, True, False}\n",
        "print(vendor)\n",
        "print(num)\n",
        "print(bol)\n",
        "print(type(vendor))\n",
        "print(type(num))\n",
        "print(type(bol))\n",
        "print(len(vendor))\n",
        "\n",
        "transporter=set((\"LS\", \"LM\",\"SSE\",\"UIL\", \"UAE\", \"INLAND\"))\n",
        "print(transporter)\n",
        "\n"
      ]
    },
    {
      "cell_type": "code",
      "source": [
        "#Python - Access Set Items\n",
        "\n",
        "vendor={\"LS\", \"LM\",\"SSE\",\"UIL\", \"UAE\", \"INLAND\"}\n",
        "for i in vendor:\n",
        "  print (i)\n",
        "print(\"LS\" in vendor)\n",
        "print(\"LM\" not in vendor)"
      ],
      "metadata": {
        "id": "IiH1X7H4oCBX",
        "colab": {
          "base_uri": "https://localhost:8080/"
        },
        "outputId": "8d8fcbf2-1e26-453a-9fbc-7b4265c8478a"
      },
      "execution_count": null,
      "outputs": [
        {
          "output_type": "stream",
          "name": "stdout",
          "text": [
            "UIL\n",
            "UAE\n",
            "SSE\n",
            "INLAND\n",
            "LM\n",
            "LS\n",
            "True\n",
            "False\n"
          ]
        }
      ]
    },
    {
      "cell_type": "code",
      "source": [
        "#Python - Add Set Items\n",
        "\n",
        "vendor={\"LS\", \"LM\",\"SSE\",\"UIL\", \"UAE\", \"INLAND\"}\n",
        "vendor.add(\"Western Carriers\")\n",
        "print(vendor)\n",
        "transporter=[\"Jagdish\", \"Nasurrudin\", \"Abreast\", \"DHL\"]\n",
        "vendor.update(transporter)\n",
        "print(vendor)"
      ],
      "metadata": {
        "colab": {
          "base_uri": "https://localhost:8080/"
        },
        "id": "-R-sRJNIECH5",
        "outputId": "6d778e97-6a23-4906-a6f7-98ea354cc073"
      },
      "execution_count": null,
      "outputs": [
        {
          "output_type": "stream",
          "name": "stdout",
          "text": [
            "{'UIL', 'Western Carriers', 'UAE', 'SSE', 'INLAND', 'LM', 'LS'}\n",
            "{'Jagdish', 'DHL', 'LS', 'Western Carriers', 'UAE', 'SSE', 'INLAND', 'LM', 'UIL', 'Abreast', 'Nasurrudin'}\n"
          ]
        }
      ]
    },
    {
      "cell_type": "code",
      "source": [
        "#Python - Remove Set Items\n",
        "\n",
        "vendor={\"LS\", \"LM\",\"SSE\",\"UIL\", \"UAE\", \"INLAND\"}\n",
        "vendor.remove(\"UIL\")\n",
        "print(vendor)\n",
        "vendor.discard(\"INLAND\")\n",
        "print(vendor)\n",
        "vendor.pop()\n",
        "print(vendor)\n",
        "vendor.clear()\n",
        "print(vendor)"
      ],
      "metadata": {
        "colab": {
          "base_uri": "https://localhost:8080/"
        },
        "id": "tM_GGkHiGDbt",
        "outputId": "3290727a-61ed-4c14-d8a7-744b525b23bf"
      },
      "execution_count": null,
      "outputs": [
        {
          "output_type": "stream",
          "name": "stdout",
          "text": [
            "{'UAE', 'SSE', 'INLAND', 'LM', 'LS'}\n",
            "{'UAE', 'SSE', 'LM', 'LS'}\n",
            "{'SSE', 'LM', 'LS'}\n",
            "set()\n"
          ]
        }
      ]
    },
    {
      "cell_type": "code",
      "source": [
        "#Python - Loop Sets\n",
        "\n",
        "#Python - Remove Set Items\n",
        "\n",
        "vendor={\"LS\", \"LM\",\"SSE\",\"UIL\", \"UAE\", \"INLAND\"}\n",
        "for i in vendor:\n",
        "  print(i)"
      ],
      "metadata": {
        "colab": {
          "base_uri": "https://localhost:8080/"
        },
        "id": "0yRFxlimNaka",
        "outputId": "d771f86e-35dd-4578-e581-6949445c7370"
      },
      "execution_count": null,
      "outputs": [
        {
          "output_type": "stream",
          "name": "stdout",
          "text": [
            "UIL\n",
            "UAE\n",
            "SSE\n",
            "INLAND\n",
            "LM\n",
            "LS\n"
          ]
        }
      ]
    },
    {
      "cell_type": "code",
      "source": [
        "#Python - Join Sets\n",
        "\n",
        "vendor={\"SSE\",\"UIL\", \"UAE\", \"INLAND\"}\n",
        "transporter={\"Jagdish\", \"Nasurrudin\", \"Abreast\", \"UAE\"}\n",
        "company={\"Darcl\",\"RRC\",\"Bluescope\"}\n",
        "contractor=vendor.union(transporter)\n",
        "print(contractor)\n",
        "vendor.update(transporter)\n",
        "print(vendor)\n",
        "contractor=vendor|transporter|company\n",
        "print(contractor)\n",
        "contractor=vendor.union(transporter,company)\n",
        "print(contractor)"
      ],
      "metadata": {
        "colab": {
          "base_uri": "https://localhost:8080/"
        },
        "id": "DsC7BgJ4PToF",
        "outputId": "658291ac-2707-4a44-f647-5956c21d6774"
      },
      "execution_count": null,
      "outputs": [
        {
          "output_type": "stream",
          "name": "stdout",
          "text": [
            "{'Jagdish', 'UAE', 'SSE', 'INLAND', 'UIL', 'Abreast', 'Nasurrudin'}\n",
            "{'Jagdish', 'UAE', 'SSE', 'INLAND', 'UIL', 'Abreast', 'Nasurrudin'}\n",
            "{'Jagdish', 'RRC', 'UAE', 'SSE', 'INLAND', 'Bluescope', 'UIL', 'Darcl', 'Abreast', 'Nasurrudin'}\n",
            "{'Jagdish', 'RRC', 'UAE', 'SSE', 'INLAND', 'Bluescope', 'UIL', 'Darcl', 'Abreast', 'Nasurrudin'}\n"
          ]
        }
      ]
    },
    {
      "cell_type": "code",
      "source": [
        "#Intersection\n",
        "\n",
        "vendor={\"SSE\",\"UIL\", \"UAE\", \"INLAND\"}\n",
        "transporter={\"Jagdish\", \"Nasurrudin\", \"Abreast\", \"UAE\"}\n",
        "company={\"Darcl\",\"RRC\",\"Bluescope\",\"UAE\"}\n",
        "contractor=vendor.intersection(transporter)\n",
        "print(contractor)\n",
        "vendor.intersection_update(transporter)\n",
        "print(vendor)\n",
        "contractor=vendor&transporter&company\n",
        "print(contractor)\n"
      ],
      "metadata": {
        "colab": {
          "base_uri": "https://localhost:8080/"
        },
        "id": "p8tqj_qyREz1",
        "outputId": "15583da5-8eaf-4565-acf8-7fe9c6253382"
      },
      "execution_count": null,
      "outputs": [
        {
          "output_type": "stream",
          "name": "stdout",
          "text": [
            "{'UAE'}\n",
            "{'UAE'}\n",
            "{'UAE'}\n"
          ]
        }
      ]
    },
    {
      "cell_type": "code",
      "source": [
        "#Difference\n",
        "\n",
        "vendor={\"SSE\",\"UIL\", \"UAE\", \"INLAND\"}\n",
        "transporter={\"Jagdish\", \"Nasurrudin\", \"Abreast\", \"UAE\"}\n",
        "company={\"Darcl\",\"RRC\",\"Bluescope\",\"UAE\"}\n",
        "contractor=vendor.difference(transporter)\n",
        "print(contractor)\n",
        "contractor=vendor-transporter\n",
        "print(contractor)\n",
        "print(vendor)\n",
        "vendor.difference_update(transporter)\n",
        "print(contractor)\n",
        "print(vendor)"
      ],
      "metadata": {
        "colab": {
          "base_uri": "https://localhost:8080/"
        },
        "id": "mEPiUOQRSEhf",
        "outputId": "0af7efaa-ad22-412b-e03d-cbb3b547eafc"
      },
      "execution_count": null,
      "outputs": [
        {
          "output_type": "stream",
          "name": "stdout",
          "text": [
            "{'SSE', 'UIL', 'INLAND'}\n",
            "{'SSE', 'UIL', 'INLAND'}\n",
            "{'SSE', 'UIL', 'INLAND', 'UAE'}\n",
            "{'SSE', 'UIL', 'INLAND'}\n",
            "{'SSE', 'UIL', 'INLAND'}\n"
          ]
        }
      ]
    },
    {
      "cell_type": "code",
      "source": [
        "#Symmetric Differences\n",
        "\n",
        "vendor={\"SSE\",\"UIL\", \"UAE\", \"INLAND\"}\n",
        "transporter={\"Jagdish\", \"Nasurrudin\", \"Abreast\", \"UAE\"}\n",
        "company={\"Darcl\",\"RRC\",\"Bluescope\",\"UAE\"}\n",
        "contractor=vendor.symmetric_difference(transporter)\n",
        "print(contractor)\n",
        "contractor=vendor^transporter\n",
        "print(contractor)\n",
        "print(vendor)\n",
        "vendor.symmetric_difference_update(transporter)\n",
        "print(vendor)"
      ],
      "metadata": {
        "colab": {
          "base_uri": "https://localhost:8080/"
        },
        "id": "NfoU2-a8TOUE",
        "outputId": "9612cf77-a35c-402c-adf3-37fc59cbd3c6"
      },
      "execution_count": null,
      "outputs": [
        {
          "output_type": "stream",
          "name": "stdout",
          "text": [
            "{'Jagdish', 'SSE', 'INLAND', 'UIL', 'Abreast', 'Nasurrudin'}\n",
            "{'Jagdish', 'SSE', 'INLAND', 'UIL', 'Abreast', 'Nasurrudin'}\n",
            "{'SSE', 'UIL', 'INLAND', 'UAE'}\n",
            "{'Jagdish', 'SSE', 'INLAND', 'UIL', 'Abreast', 'Nasurrudin'}\n"
          ]
        }
      ]
    }
  ]
}