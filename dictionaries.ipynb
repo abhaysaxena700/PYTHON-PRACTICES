{
  "nbformat": 4,
  "nbformat_minor": 0,
  "metadata": {
    "colab": {
      "provenance": [],
      "authorship_tag": "ABX9TyMH0gW4c/MbxfV1PDxXJfv2",
      "include_colab_link": true
    },
    "kernelspec": {
      "name": "python3",
      "display_name": "Python 3"
    },
    "language_info": {
      "name": "python"
    }
  },
  "cells": [
    {
      "cell_type": "markdown",
      "metadata": {
        "id": "view-in-github",
        "colab_type": "text"
      },
      "source": [
        "<a href=\"https://colab.research.google.com/github/abhaysaxena700/PYTHON-PRACTICES/blob/main/dictionaries.ipynb\" target=\"_parent\"><img src=\"https://colab.research.google.com/assets/colab-badge.svg\" alt=\"Open In Colab\"/></a>"
      ]
    },
    {
      "cell_type": "code",
      "execution_count": null,
      "metadata": {
        "colab": {
          "base_uri": "https://localhost:8080/"
        },
        "id": "_JDmv_q1WifJ",
        "outputId": "f8cc8ef1-1913-4eb3-9122-2ff8374f9bae"
      },
      "outputs": [
        {
          "output_type": "stream",
          "name": "stdout",
          "text": [
            "{'name': 'UIL', 'year': 15, 'dept': 'Inbound', 'work': 'supervise'}\n",
            "<class 'dict'>\n",
            "4\n",
            "{'name': 'UIL', 'year': 20, 'dept': 'Inbound'}\n",
            "<class 'dict'>\n",
            "Inbound\n"
          ]
        }
      ],
      "source": [
        "#Dictionary\n",
        "\n",
        "vendor={\"name\":\"UIL\", \"year\":20, \"dept\":\"Inbound\", \"year\":15, \"work\":\"supervise\"}\n",
        "print(vendor)\n",
        "print(type(vendor))\n",
        "print(len(vendor))\n",
        "\n",
        "\n",
        "transporter=dict(name=\"UIL\", year=20, dept=\"Inbound\", )\n",
        "print(transporter)\n",
        "print(type(transporter))\n",
        "print(transporter[\"dept\"])\n"
      ]
    },
    {
      "cell_type": "code",
      "source": [
        "#Python - Access Dictionary Items\n",
        "\n",
        "vendor={\"name\":\"UIL\", \"year\":20, \"dept\":\"Inbound\", \"year\":15, \"work\":\"supervise\"}\n",
        "x=vendor[\"name\"]\n",
        "print(x)\n",
        "x=vendor.get(\"year\")\n",
        "print(x)\n",
        "y=vendor.keys()\n",
        "print(y)\n",
        "z=vendor.values()\n",
        "print(z)\n",
        "vendor[\"dept\"]=\"Outbound\"\n",
        "print(vendor)\n",
        "vendor[\"rank\"]=5\n",
        "print(vendor)\n",
        "if \"ability\" in vendor:\n",
        "    print(\"Yes, 'rank' is one of the keys in the vendor dictionary\")\n",
        "else:\n",
        "  print(\"Not available\")\n"
      ],
      "metadata": {
        "colab": {
          "base_uri": "https://localhost:8080/"
        },
        "id": "KgiQy1dZbAZA",
        "outputId": "390c7731-8f67-4236-941a-0b0dd1eaa899"
      },
      "execution_count": null,
      "outputs": [
        {
          "output_type": "stream",
          "name": "stdout",
          "text": [
            "UIL\n",
            "15\n",
            "dict_keys(['name', 'year', 'dept', 'work'])\n",
            "dict_values(['UIL', 15, 'Inbound', 'supervise'])\n",
            "{'name': 'UIL', 'year': 15, 'dept': 'Outbound', 'work': 'supervise'}\n",
            "{'name': 'UIL', 'year': 15, 'dept': 'Outbound', 'work': 'supervise', 'rank': 5}\n",
            "Not available\n"
          ]
        }
      ]
    },
    {
      "cell_type": "code",
      "source": [
        "#Python - Change Dictionary Items\n",
        "\n",
        "vendor={\"name\":\"UIL\", \"year\":2020, \"dept\":\"Inbound\", \"duration\":5, \"work\":\"supervise\"}\n",
        "vendor[\"year\"]=2024\n",
        "print(vendor)\n",
        "vendor.update({\"duration\":4})\n",
        "print(vendor)\n"
      ],
      "metadata": {
        "colab": {
          "base_uri": "https://localhost:8080/"
        },
        "id": "xXn1ZP9Zd2wA",
        "outputId": "004b3828-6182-4128-c2c1-ec9e6e96876c"
      },
      "execution_count": null,
      "outputs": [
        {
          "output_type": "stream",
          "name": "stdout",
          "text": [
            "{'name': 'UIL', 'year': 2024, 'dept': 'Inbound', 'duration': 5, 'work': 'supervise'}\n",
            "{'name': 'UIL', 'year': 2024, 'dept': 'Inbound', 'duration': 4, 'work': 'supervise'}\n"
          ]
        }
      ]
    },
    {
      "cell_type": "code",
      "source": [
        "#Python - Add Dictionary Items\n",
        "\n",
        "vendor={\"name\":\"UIL\", \"year\":2020, \"dept\":\"Inbound\"}\n",
        "vendor[\"rank\"]=5\n",
        "print(vendor)\n",
        "vendor.update({\"work\":\"supervise\"})\n",
        "print(vendor)\n",
        "x=vendor.keys()\n",
        "y=vendor.values()\n",
        "print(x)\n",
        "print(y)"
      ],
      "metadata": {
        "colab": {
          "base_uri": "https://localhost:8080/"
        },
        "id": "W_JmdaYIeoxI",
        "outputId": "2dfdc0cc-4321-4cd5-aa9f-e22c2e389d73"
      },
      "execution_count": null,
      "outputs": [
        {
          "output_type": "stream",
          "name": "stdout",
          "text": [
            "{'name': 'UIL', 'year': 2020, 'dept': 'Inbound', 'rank': 5}\n",
            "{'name': 'UIL', 'year': 2020, 'dept': 'Inbound', 'rank': 5, 'work': 'supervise'}\n",
            "dict_keys(['name', 'year', 'dept', 'rank', 'work'])\n",
            "dict_values(['UIL', 2020, 'Inbound', 5, 'supervise'])\n"
          ]
        }
      ]
    },
    {
      "cell_type": "code",
      "source": [
        "#Python - Remove Dictionary Items\n",
        "\n",
        "vendor={'name': 'UIL', 'year': 2020, 'dept': 'Inbound', 'rank': 5, 'work': 'supervise'}\n",
        "vendor.pop(\"rank\")\n",
        "print(vendor)\n",
        "vendor.popitem()\n",
        "print(vendor)\n",
        "del vendor[\"year\"]\n",
        "print(vendor)\n",
        "vendor.clear()\n",
        "print(vendor)\n"
      ],
      "metadata": {
        "colab": {
          "base_uri": "https://localhost:8080/"
        },
        "id": "D0su-eOOfbxR",
        "outputId": "a88b073a-83a1-4bcf-c338-bb88e9731eb2"
      },
      "execution_count": null,
      "outputs": [
        {
          "output_type": "stream",
          "name": "stdout",
          "text": [
            "{'name': 'UIL', 'year': 2020, 'dept': 'Inbound', 'work': 'supervise'}\n",
            "{'name': 'UIL', 'year': 2020, 'dept': 'Inbound'}\n",
            "{'name': 'UIL', 'dept': 'Inbound'}\n",
            "{}\n"
          ]
        }
      ]
    },
    {
      "cell_type": "code",
      "source": [
        "#Python - Loop Dictionaries\n",
        "\n",
        "vendor={'name': 'UIL', 'year': 2020, 'dept': 'Inbound', 'rank': 5, 'work': 'supervise'}\n",
        "for x in vendor:\n",
        "  print(vendor[x])\n",
        "for x in vendor.keys():\n",
        "  print(x)\n",
        "\n",
        "#Loop through both keys and values, by using the items() method:\n",
        "\n",
        "for x, y in vendor.items():\n",
        "  print(x, y)"
      ],
      "metadata": {
        "colab": {
          "base_uri": "https://localhost:8080/"
        },
        "id": "lnPaVf2Ag7B7",
        "outputId": "305e5338-9360-475b-a58c-620bd34e4489"
      },
      "execution_count": null,
      "outputs": [
        {
          "output_type": "stream",
          "name": "stdout",
          "text": [
            "UIL\n",
            "2020\n",
            "Inbound\n",
            "5\n",
            "supervise\n",
            "name\n",
            "year\n",
            "dept\n",
            "rank\n",
            "work\n",
            "name UIL\n",
            "year 2020\n",
            "dept Inbound\n",
            "rank 5\n",
            "work supervise\n"
          ]
        }
      ]
    },
    {
      "cell_type": "code",
      "source": [
        "#Python - Copy Dictionaries\n",
        "\n",
        "vendor={'name': 'UIL', 'year': 2020, 'dept': 'Inbound'}\n",
        "transporter=vendor.copy()\n",
        "print(transporter)\n",
        "transporter=dict(vendor)\n",
        "print(transporter)"
      ],
      "metadata": {
        "colab": {
          "base_uri": "https://localhost:8080/"
        },
        "id": "XNmv0L0fiGx8",
        "outputId": "bd8bd70c-ec00-41d8-dae9-c7be83c8f64f"
      },
      "execution_count": null,
      "outputs": [
        {
          "output_type": "stream",
          "name": "stdout",
          "text": [
            "{'name': 'UIL', 'year': 2020, 'dept': 'Inbound'}\n",
            "{'name': 'UIL', 'year': 2020, 'dept': 'Inbound'}\n"
          ]
        }
      ]
    },
    {
      "cell_type": "code",
      "source": [
        "#Access Items in Nested Dictionaries\n",
        "\n",
        "transporter={\"vendor1\":{'name': 'UAE', 'year': 2020, 'dept': 'Inbound'},\"vendor2\":{'name': 'SAMAL', 'year': 2015, 'dept': 'Outbound'},\"vendor3\":{'name': 'INLAND', 'year': 2024, 'dept': 'RMHS'}}\n",
        "print(transporter)\n",
        "\n"
      ],
      "metadata": {
        "colab": {
          "base_uri": "https://localhost:8080/"
        },
        "id": "yyfTS3uzikAx",
        "outputId": "bc00afdf-f393-4561-eb65-193829b8bd22"
      },
      "execution_count": null,
      "outputs": [
        {
          "output_type": "stream",
          "name": "stdout",
          "text": [
            "{'vendor1': {'name': 'UAE', 'year': 2020, 'dept': 'Inbound'}, 'vendor2': {'name': 'SAMAL', 'year': 2015, 'dept': 'Outbound'}, 'vendor3': {'name': 'INLAND', 'year': 2024, 'dept': 'RMHS'}}\n"
          ]
        }
      ]
    },
    {
      "cell_type": "code",
      "source": [
        "#Add three dictionaries into a new dictionary:\n",
        "\n",
        "vendor1={'name': 'UAE', 'year': 2020, 'dept': 'Inbound'}\n",
        "vendor2={'name': 'SAMAL', 'year': 2015, 'dept': 'Outbound'}\n",
        "vendor3={'name': 'INLAND', 'year': 2024, 'dept': 'RMHS'}\n",
        "transporter={\"vendor1\":vendor1,\"vendor2\":vendor2,\"vendor3\":vendor3}\n",
        "print(transporter)\n",
        "print(transporter[\"vendor1\"][\"name\"])\n",
        "print(transporter[\"vendor2\"][\"year\"])\n",
        "print(transporter[\"vendor3\"][\"dept\"])"
      ],
      "metadata": {
        "colab": {
          "base_uri": "https://localhost:8080/"
        },
        "id": "xsp245u6kGx5",
        "outputId": "9a2cdb93-376b-45e5-c91a-c388a2af205d"
      },
      "execution_count": null,
      "outputs": [
        {
          "output_type": "stream",
          "name": "stdout",
          "text": [
            "{'vendor1': {'name': 'UAE', 'year': 2020, 'dept': 'Inbound'}, 'vendor2': {'name': 'SAMAL', 'year': 2015, 'dept': 'Outbound'}, 'vendor3': {'name': 'INLAND', 'year': 2024, 'dept': 'RMHS'}}\n",
            "UAE\n",
            "2015\n",
            "RMHS\n"
          ]
        }
      ]
    },
    {
      "cell_type": "code",
      "source": [
        "#Loop Through Nested Dictionaries\n",
        "\n",
        "transporter={\"vendor1\":{'name': 'UAE', 'year': 2020, 'dept': 'Inbound'},\"vendor2\":{'name': 'SAMAL', 'year': 2015, 'dept': 'Outbound'},\"vendor3\":{'name': 'INLAND', 'year': 2024, 'dept': 'RMHS'}}\n",
        "for x, obj in transporter.items():\n",
        "  print(x)\n",
        "  for y in obj:\n",
        "    print(y+\":\", obj[y])\n",
        "\n",
        "for x in transporter:\n",
        "  for y in transporter[x]:\n",
        "    print(y+\":\", transporter[x][y])\n"
      ],
      "metadata": {
        "colab": {
          "base_uri": "https://localhost:8080/"
        },
        "id": "rdQW4FIpkp24",
        "outputId": "e19d0bc8-851b-46af-eb11-9d2aed848d46"
      },
      "execution_count": null,
      "outputs": [
        {
          "output_type": "stream",
          "name": "stdout",
          "text": [
            "vendor1\n",
            "name: UAE\n",
            "year: 2020\n",
            "dept: Inbound\n",
            "vendor2\n",
            "name: SAMAL\n",
            "year: 2015\n",
            "dept: Outbound\n",
            "vendor3\n",
            "name: INLAND\n",
            "year: 2024\n",
            "dept: RMHS\n",
            "name: UAE\n",
            "year: 2020\n",
            "dept: Inbound\n",
            "name: SAMAL\n",
            "year: 2015\n",
            "dept: Outbound\n",
            "name: INLAND\n",
            "year: 2024\n",
            "dept: RMHS\n"
          ]
        }
      ]
    }
  ]
}